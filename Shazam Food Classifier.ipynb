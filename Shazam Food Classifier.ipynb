{
 "cells": [
  {
   "cell_type": "code",
   "execution_count": 1,
   "id": "598f98ea",
   "metadata": {},
   "outputs": [],
   "source": [
    "import matplotlib.pyplot as plt\n",
    "import matplotlib.image as img\n",
    "import numpy as np\n",
    "#from scipy.misc import imresize\n",
    "from PIL import Image\n",
    "import PIL\n",
    "\n",
    "%matplotlib inline\n",
    "\n",
    "import cv2\n",
    "import seaborn as sns\n",
    "import os\n",
    "from os import listdir\n",
    "from os.path import isfile, join\n",
    "import shutil\n",
    "import stat\n",
    "import collections\n",
    "from collections import defaultdict\n",
    "\n",
    "from ipywidgets import interact, interactive, fixed\n",
    "import ipywidgets as widgets\n",
    "\n",
    "import h5py\n",
    "from sklearn.model_selection import train_test_split\n",
    "from keras.utils.np_utils import to_categorical\n",
    "from keras.applications.inception_v3 import preprocess_input\n",
    "from keras.models import load_model"
   ]
  },
  {
   "cell_type": "code",
   "execution_count": 3,
   "id": "fb3fb3bf",
   "metadata": {},
   "outputs": [
    {
     "ename": "TypeError",
     "evalue": "'AxesSubplot' object does not support indexing",
     "output_type": "error",
     "traceback": [
      "\u001b[0;31m---------------------------------------------------------------------------\u001b[0m",
      "\u001b[0;31mTypeError\u001b[0m                                 Traceback (most recent call last)",
      "\u001b[0;32m<ipython-input-3-b62411186684>\u001b[0m in \u001b[0;36m<module>\u001b[0;34m\u001b[0m\n\u001b[1;32m     15\u001b[0m         \u001b[0mrand_img\u001b[0m \u001b[0;34m=\u001b[0m \u001b[0mnp\u001b[0m\u001b[0;34m.\u001b[0m\u001b[0mrandom\u001b[0m\u001b[0;34m.\u001b[0m\u001b[0mchoice\u001b[0m\u001b[0;34m(\u001b[0m\u001b[0mall_files\u001b[0m\u001b[0;34m)\u001b[0m\u001b[0;34m\u001b[0m\u001b[0m\n\u001b[1;32m     16\u001b[0m         \u001b[0mimg\u001b[0m \u001b[0;34m=\u001b[0m \u001b[0mplt\u001b[0m\u001b[0;34m.\u001b[0m\u001b[0mimread\u001b[0m\u001b[0;34m(\u001b[0m\u001b[0mos\u001b[0m\u001b[0;34m.\u001b[0m\u001b[0mpath\u001b[0m\u001b[0;34m.\u001b[0m\u001b[0mjoin\u001b[0m\u001b[0;34m(\u001b[0m\u001b[0mroot_dir\u001b[0m\u001b[0;34m,\u001b[0m \u001b[0mfood_dir\u001b[0m\u001b[0;34m,\u001b[0m \u001b[0mrand_img\u001b[0m\u001b[0;34m)\u001b[0m\u001b[0;34m)\u001b[0m\u001b[0;34m\u001b[0m\u001b[0m\n\u001b[0;32m---> 17\u001b[0;31m         \u001b[0max\u001b[0m\u001b[0;34m[\u001b[0m\u001b[0mi\u001b[0m\u001b[0;34m]\u001b[0m\u001b[0;34m[\u001b[0m\u001b[0mj\u001b[0m\u001b[0;34m]\u001b[0m\u001b[0;34m.\u001b[0m\u001b[0mimshow\u001b[0m\u001b[0;34m(\u001b[0m\u001b[0mimg\u001b[0m\u001b[0;34m)\u001b[0m\u001b[0;34m\u001b[0m\u001b[0m\n\u001b[0m\u001b[1;32m     18\u001b[0m         \u001b[0mec\u001b[0m \u001b[0;34m=\u001b[0m \u001b[0;34m(\u001b[0m\u001b[0;36m0\u001b[0m\u001b[0;34m,\u001b[0m \u001b[0;36m.6\u001b[0m\u001b[0;34m,\u001b[0m \u001b[0;36m.1\u001b[0m\u001b[0;34m)\u001b[0m\u001b[0;34m\u001b[0m\u001b[0m\n\u001b[1;32m     19\u001b[0m         \u001b[0mfc\u001b[0m \u001b[0;34m=\u001b[0m \u001b[0;34m(\u001b[0m\u001b[0;36m0\u001b[0m\u001b[0;34m,\u001b[0m \u001b[0;36m.7\u001b[0m\u001b[0;34m,\u001b[0m \u001b[0;36m.2\u001b[0m\u001b[0;34m)\u001b[0m\u001b[0;34m\u001b[0m\u001b[0m\n",
      "\u001b[0;31mTypeError\u001b[0m: 'AxesSubplot' object does not support indexing"
     ]
    },
    {
     "data": {
      "image/png": "[encoded data removed]",
      "text/plain": [
       "<Figure size 1080x1800 with 3 Axes>"
      ]
     },
     "metadata": {
      "needs_background": "light"
     },
     "output_type": "display_data"
    }
   ],
   "source": [
    "root_dir = './food-101/images/'\n",
    "rows = 1\n",
    "cols = 3\n",
    "fig, ax = plt.subplots(rows, cols, frameon=False, figsize=(15, 25))\n",
    "fig.suptitle('Random Image from Each Food Class', fontsize=20)\n",
    "sorted_food_dirs = sorted(os.listdir(root_dir))\n",
    "sorted_food_dirs.remove('.DS_Store')\n",
    "for i in range(rows):\n",
    "    for j in range(cols):\n",
    "        try:\n",
    "            food_dir = sorted_food_dirs[i*cols + j]\n",
    "        except:\n",
    "            break\n",
    "        all_files = os.listdir(os.path.join(root_dir, food_dir))\n",
    "        rand_img = np.random.choice(all_files)\n",
    "        img = plt.imread(os.path.join(root_dir, food_dir, rand_img))\n",
    "        ax[i][j].imshow(img)\n",
    "        ec = (0, .6, .1)\n",
    "        fc = (0, .7, .2)\n",
    "        ax[i][j].text(0, -20, food_dir, size=10, rotation=0,\n",
    "                ha=\"left\", va=\"top\", \n",
    "                bbox=dict(boxstyle=\"round\", ec=ec, fc=fc))\n",
    "plt.setp(ax, xticks=[], yticks=[])\n",
    "plt.tight_layout(rect=[0, 0.03, 1, 0.95])"
   ]
  },
  {
   "cell_type": "code",
   "execution_count": 2,
   "id": "32ac6881",
   "metadata": {},
   "outputs": [],
   "source": [
    "import multiprocessing as mp\n",
    "\n",
    "num_processes = 6\n",
    "pool = mp.Pool(processes=num_processes)"
   ]
  },
  {
   "cell_type": "code",
   "execution_count": 3,
   "id": "87e7533c",
   "metadata": {},
   "outputs": [],
   "source": [
    "class_to_ix = {}\n",
    "ix_to_class = {}\n",
    "with open('./food-101/meta/classes.txt', 'r') as txt:\n",
    "    classes = [l.strip() for l in txt.readlines()]\n",
    "    class_to_ix = dict(zip(classes, range(len(classes))))\n",
    "    ix_to_class = dict(zip(range(len(classes)), classes))\n",
    "    class_to_ix = {v: k for k, v in ix_to_class.items()}\n",
    "sorted_class_to_ix = collections.OrderedDict(sorted(class_to_ix.items()))"
   ]
  },
  {
   "cell_type": "code",
   "execution_count": 4,
   "id": "720678f0",
   "metadata": {},
   "outputs": [
    {
     "name": "stdout",
     "output_type": "stream",
     "text": [
      "Train/Test files already copied into separate folders.\n"
     ]
    }
   ],
   "source": [
    "# Only split files if haven't already\n",
    "if not os.path.isdir('./food-101/test') and not os.path.isdir('./food-101/train'):\n",
    "\n",
    "    def copytree(src, dst, symlinks = False, ignore = None):\n",
    "        if not os.path.exists(dst):\n",
    "            os.makedirs(dst)\n",
    "            shutil.copystat(src, dst)\n",
    "        lst = os.listdir(src)\n",
    "        if ignore:\n",
    "            excl = ignore(src, lst)\n",
    "            lst = [x for x in lst if x not in excl]\n",
    "        for item in lst:\n",
    "            s = os.path.join(src, item)\n",
    "            d = os.path.join(dst, item)\n",
    "            if symlinks and os.path.islink(s):\n",
    "                if os.path.lexists(d):\n",
    "                    os.remove(d)\n",
    "                os.symlink(os.readlink(s), d)\n",
    "                try:\n",
    "                    st = os.lstat(s)\n",
    "                    mode = stat.S_IMODE(st.st_mode)\n",
    "                    os.lchmod(d, mode)\n",
    "                except:\n",
    "                    pass # lchmod not available\n",
    "            elif os.path.isdir(s):\n",
    "                copytree(s, d, symlinks, ignore)\n",
    "            else:\n",
    "                shutil.copy2(s, d)\n",
    "\n",
    "    def generate_dir_file_map(path):\n",
    "        dir_files = defaultdict(list)\n",
    "        with open(path, 'r') as txt:\n",
    "            files = [l.strip() for l in txt.readlines()]\n",
    "            for f in files:\n",
    "                dir_name, id = f.split('/')\n",
    "                dir_files[dir_name].append(id + '.jpg')\n",
    "        return dir_files\n",
    "\n",
    "    train_dir_files = generate_dir_file_map('food-101/meta/train.txt')\n",
    "    test_dir_files = generate_dir_file_map('food-101/meta/test.txt')\n",
    "\n",
    "\n",
    "    def ignore_train(d, filenames):\n",
    "        print(d)\n",
    "        subdir = d.split('/')[-1]\n",
    "        to_ignore = train_dir_files[subdir]\n",
    "        return to_ignore\n",
    "\n",
    "    def ignore_test(d, filenames):\n",
    "        print(d)\n",
    "        subdir = d.split('/')[-1]\n",
    "        to_ignore = test_dir_files[subdir]\n",
    "        return to_ignore\n",
    "\n",
    "    copytree('food-101/images', 'food-101/test', ignore=ignore_train)\n",
    "    copytree('food-101/images', 'food-101/train', ignore=ignore_test)\n",
    "    \n",
    "else:\n",
    "    print('Train/Test files already copied into separate folders.')"
   ]
  },
  {
   "cell_type": "code",
   "execution_count": 65,
   "id": "1d870985",
   "metadata": {},
   "outputs": [
    {
     "name": "stdout",
     "output_type": "stream",
     "text": [
      "0 2 waffles\n",
      "Skipping bad image:  waffles 3798963.jpg\n",
      "1 0 apple_pie\n",
      "2 1 pizza\n",
      "749 images loaded\n",
      "14 images resized\n",
      "1 images skipped\n",
      "CPU times: user 2.45 s, sys: 379 ms, total: 2.83 s\n",
      "Wall time: 3.03 s\n"
     ]
    },
    {
     "name": "stderr",
     "output_type": "stream",
     "text": [
      "/Users/prat/opt/anaconda3/envs/shazamEnv/lib/python3.7/site-packages/ipykernel_launcher.py:39: VisibleDeprecationWarning: Creating an ndarray from ragged nested sequences (which is a list-or-tuple of lists-or-tuples-or ndarrays with different lengths or shapes) is deprecated. If you meant to do this, you must specify 'dtype=object' when creating the ndarray.\n"
     ]
    }
   ],
   "source": [
    "%%time\n",
    "\n",
    "# Load dataset images and resize to meet minimum width and height pixel size\n",
    "def load_images(root, min_side=299):\n",
    "    all_imgs = []\n",
    "    all_classes = []\n",
    "    resize_count = 0\n",
    "    invalid_count = 0\n",
    "    for i, subdir in enumerate(listdir(root)):\n",
    "        imgs = listdir(join(root, subdir))\n",
    "        class_ix = class_to_ix[subdir]\n",
    "        print(i, class_ix, subdir)\n",
    "        for img_name in imgs:\n",
    "            #img_arr = img.imread(join(root, subdir, img_name))\n",
    "            img_arr = np.asarray(PIL.Image.open(join(root, subdir, img_name)))\n",
    "            img_arr_rs = img_arr\n",
    "            try:\n",
    "                w, h, _ = img_arr.shape\n",
    "                if w < min_side:\n",
    "                    wpercent = (min_side/float(w))\n",
    "                    hsize = int((float(h)*float(wpercent)))\n",
    "                    #print('new dims:', min_side, hsize)\n",
    "                    #img_arr_rs = imresize(img_arr, (min_side, hsize))\n",
    "                    img_arr_rs = Image.fromarray(img_arr).resize(size=(hsize, min_side))\n",
    "                    resize_count += 1\n",
    "                elif h < min_side:\n",
    "                    hpercent = (min_side/float(h))\n",
    "                    wsize = int((float(w)*float(hpercent)))\n",
    "                    #print('new dims:', wsize, min_side)\n",
    "                    #img_arr_rs = imresize(img_arr, (wsize, min_side))\n",
    "                    img_arr_rs = Image.fromarray(img_arr).resize(size=(hsize, min_side))\n",
    "                    resize_count += 1\n",
    "                all_imgs.append(img_arr_rs)\n",
    "                all_classes.append(class_ix)\n",
    "            except:\n",
    "                print('Skipping bad image: ', subdir, img_name)\n",
    "                invalid_count += 1\n",
    "    print(len(all_imgs), 'images loaded')\n",
    "    print(resize_count, 'images resized')\n",
    "    print(invalid_count, 'images skipped')\n",
    "    return np.array(all_imgs), np.array(all_classes)\n",
    "    \n",
    "X_test, y_test = load_images('./food-101/test', min_side=299)"
   ]
  },
  {
   "cell_type": "code",
   "execution_count": 66,
   "id": "6bb51f35",
   "metadata": {},
   "outputs": [
    {
     "name": "stdout",
     "output_type": "stream",
     "text": [
      "0 2 waffles\n",
      "1 0 apple_pie\n",
      "2 1 pizza\n",
      "2250 images loaded\n",
      "58 images resized\n",
      "0 images skipped\n",
      "CPU times: user 7.63 s, sys: 1.24 s, total: 8.87 s\n",
      "Wall time: 9.56 s\n"
     ]
    },
    {
     "name": "stderr",
     "output_type": "stream",
     "text": [
      "/Users/prat/opt/anaconda3/envs/shazamEnv/lib/python3.7/site-packages/ipykernel_launcher.py:39: VisibleDeprecationWarning: Creating an ndarray from ragged nested sequences (which is a list-or-tuple of lists-or-tuples-or ndarrays with different lengths or shapes) is deprecated. If you meant to do this, you must specify 'dtype=object' when creating the ndarray.\n"
     ]
    }
   ],
   "source": [
    "%%time\n",
    "X_train, y_train = load_images('./food-101/train', min_side=299)"
   ]
  },
  {
   "cell_type": "code",
   "execution_count": 5,
   "id": "4ef68f38",
   "metadata": {},
   "outputs": [
    {
     "name": "stderr",
     "output_type": "stream",
     "text": [
      "/Users/prat/opt/anaconda3/envs/shazamEnv/lib/python3.7/site-packages/ipykernel_launcher.py:15: VisibleDeprecationWarning: Creating an ndarray from ragged nested sequences (which is a list-or-tuple of lists-or-tuples-or ndarrays with different lengths or shapes) is deprecated. If you meant to do this, you must specify 'dtype=object' when creating the ndarray.\n",
      "  from ipykernel import kernelapp as app\n"
     ]
    }
   ],
   "source": [
    "labels = ['apple_pie', 'pizza','waffles']\n",
    "img_size = 299\n",
    "def get_data(data_dir):\n",
    "    data = [] \n",
    "    for label in labels: \n",
    "        path = os.path.join(data_dir, label)\n",
    "        class_num = labels.index(label)\n",
    "        for img in os.listdir(path):\n",
    "            try:\n",
    "                img_arr = cv2.imread(os.path.join(path, img))[...,::-1] #convert BGR to RGB format\n",
    "                resized_arr = cv2.resize(img_arr, (img_size, img_size)) # Reshaping images to preferred size\n",
    "                data.append([resized_arr, class_num])\n",
    "            except Exception as e:\n",
    "                print(e)\n",
    "    return np.array(data)\n",
    "train = get_data('./food-101/train/')\n",
    "val = get_data('./food-101/test')\n",
    "x_train = []\n",
    "y_train = []\n",
    "x_test = []\n",
    "y_test = []\n",
    "\n",
    "for feature, label in train:\n",
    "    x_train.append(feature)\n",
    "    y_train.append(label)\n",
    "\n",
    "for feature, label in val:\n",
    "    x_test.append(feature)\n",
    "    y_test.append(label)"
   ]
  },
  {
   "cell_type": "code",
   "execution_count": 6,
   "id": "73335164",
   "metadata": {},
   "outputs": [
    {
     "name": "stdout",
     "output_type": "stream",
     "text": [
      "X_train shape (2250, 299, 299, 3)\n",
      "y_train shape (2250,)\n",
      "X_test shape (750, 299, 299, 3)\n",
      "y_test shape (750,)\n"
     ]
    }
   ],
   "source": [
    "x_train = np.array(x_train)\n",
    "x_test = np.array(x_test)\n",
    "x_train.reshape(-1, img_size, img_size, 1)\n",
    "y_train = np.array(y_train)\n",
    "x_test.reshape(-1, img_size, img_size, 1)\n",
    "y_test = np.array(y_test)\n",
    "print('X_train shape', x_train.shape)\n",
    "print('y_train shape', y_train.shape)\n",
    "print('X_test shape', x_test.shape)\n",
    "print('y_test shape', y_test.shape)"
   ]
  },
  {
   "cell_type": "code",
   "execution_count": 7,
   "id": "753b4d58",
   "metadata": {},
   "outputs": [
    {
     "ename": "NameError",
     "evalue": "name 'X_train' is not defined",
     "output_type": "error",
     "traceback": [
      "\u001b[0;31m---------------------------------------------------------------------------\u001b[0m",
      "\u001b[0;31mNameError\u001b[0m                                 Traceback (most recent call last)",
      "\u001b[0;32m<ipython-input-7-86b4945a39fe>\u001b[0m in \u001b[0;36m<module>\u001b[0;34m\u001b[0m\n\u001b[0;32m----> 1\u001b[0;31m \u001b[0;34m@\u001b[0m\u001b[0minteract\u001b[0m\u001b[0;34m(\u001b[0m\u001b[0mn\u001b[0m\u001b[0;34m=\u001b[0m\u001b[0;34m(\u001b[0m\u001b[0;36m0\u001b[0m\u001b[0;34m,\u001b[0m \u001b[0mlen\u001b[0m\u001b[0;34m(\u001b[0m\u001b[0mX_train\u001b[0m\u001b[0;34m)\u001b[0m\u001b[0;34m)\u001b[0m\u001b[0;34m)\u001b[0m\u001b[0;34m\u001b[0m\u001b[0m\n\u001b[0m\u001b[1;32m      2\u001b[0m \u001b[0;32mdef\u001b[0m \u001b[0mshow_pic\u001b[0m\u001b[0;34m(\u001b[0m\u001b[0mn\u001b[0m\u001b[0;34m)\u001b[0m\u001b[0;34m:\u001b[0m\u001b[0;34m\u001b[0m\u001b[0m\n\u001b[1;32m      3\u001b[0m     \u001b[0mplt\u001b[0m\u001b[0;34m.\u001b[0m\u001b[0mimshow\u001b[0m\u001b[0;34m(\u001b[0m\u001b[0mX_train\u001b[0m\u001b[0;34m[\u001b[0m\u001b[0mn\u001b[0m\u001b[0;34m]\u001b[0m\u001b[0;34m)\u001b[0m\u001b[0;34m\u001b[0m\u001b[0m\n\u001b[1;32m      4\u001b[0m     \u001b[0mprint\u001b[0m\u001b[0;34m(\u001b[0m\u001b[0;34m'class:'\u001b[0m\u001b[0;34m,\u001b[0m \u001b[0my_train\u001b[0m\u001b[0;34m[\u001b[0m\u001b[0mn\u001b[0m\u001b[0;34m]\u001b[0m\u001b[0;34m,\u001b[0m \u001b[0mix_to_class\u001b[0m\u001b[0;34m[\u001b[0m\u001b[0my_train\u001b[0m\u001b[0;34m[\u001b[0m\u001b[0mn\u001b[0m\u001b[0;34m]\u001b[0m\u001b[0;34m]\u001b[0m\u001b[0;34m)\u001b[0m\u001b[0;34m\u001b[0m\u001b[0m\n",
      "\u001b[0;31mNameError\u001b[0m: name 'X_train' is not defined"
     ]
    }
   ],
   "source": [
    "@interact(n=(0, len(X_train)))\n",
    "def show_pic(n):\n",
    "    plt.imshow(X_train[n])\n",
    "    print('class:', y_train[n], ix_to_class[y_train[n]])"
   ]
  },
  {
   "cell_type": "code",
   "execution_count": 69,
   "id": "555246a3",
   "metadata": {},
   "outputs": [
    {
     "data": {
      "application/vnd.jupyter.widget-view+json": {
       "model_id": "64d757d3e2fd45468df653008cc924b8",
       "version_major": 2,
       "version_minor": 0
      },
      "text/plain": [
       "interactive(children=(Dropdown(description='n_class', options=OrderedDict([('apple_pie', 0), ('pizza', 1), ('w…"
      ]
     },
     "metadata": {},
     "output_type": "display_data"
    }
   ],
   "source": [
    "@interact(n_class=sorted_class_to_ix)\n",
    "def show_random_images_of_class(n_class=0):\n",
    "    print(n_class)\n",
    "    nrows = 1\n",
    "    ncols = 3\n",
    "    fig, axes = plt.subplots(nrows=nrows, ncols=ncols)\n",
    "    fig.set_size_inches(12, 8)\n",
    "    #fig.tight_layout()\n",
    "    imgs = np.random.choice((y_train == n_class).nonzero()[0], nrows * ncols)\n",
    "    for i, ax in enumerate(axes.flat):\n",
    "        im = ax.imshow(X_train[imgs[i]])\n",
    "        ax.set_axis_off()\n",
    "        ax.title.set_visible(False)\n",
    "        ax.xaxis.set_ticks([])\n",
    "        ax.yaxis.set_ticks([])\n",
    "        for spine in ax.spines.values():\n",
    "            spine.set_visible(False)\n",
    "    plt.subplots_adjust(left=0, wspace=0, hspace=0)\n",
    "    plt.show()"
   ]
  },
  {
   "cell_type": "code",
   "execution_count": 9,
   "id": "10962e7c",
   "metadata": {},
   "outputs": [
    {
     "data": {
      "application/vnd.jupyter.widget-view+json": {
       "model_id": "9e0927ecb69c42f281eac1b01862b691",
       "version_major": 2,
       "version_minor": 0
      },
      "text/plain": [
       "interactive(children=(Dropdown(description='n_class', options=OrderedDict([('apple_pie', 0), ('pizza', 1), ('w…"
      ]
     },
     "metadata": {},
     "output_type": "display_data"
    }
   ],
   "source": [
    "@interact(n_class=sorted_class_to_ix)\n",
    "def show_random_images_of_class(n_class=0):\n",
    "    print(n_class)\n",
    "    nrows = 4\n",
    "    ncols = 8\n",
    "    fig, axes = plt.subplots(nrows=nrows, ncols=ncols)\n",
    "    fig.set_size_inches(12, 8)\n",
    "    #fig.tight_layout()\n",
    "    imgs = np.random.choice((y_test == n_class).nonzero()[0], nrows * ncols)\n",
    "    for i, ax in enumerate(axes.flat):\n",
    "        im = ax.imshow(X_test[imgs[i]])\n",
    "        ax.set_axis_off()\n",
    "        ax.title.set_visible(False)\n",
    "        ax.xaxis.set_ticks([])\n",
    "        ax.yaxis.set_ticks([])\n",
    "        for spine in ax.spines.values():\n",
    "            spine.set_visible(False)\n",
    "    plt.subplots_adjust(left=0, wspace=0, hspace=0)\n",
    "    plt.show()"
   ]
  },
  {
   "cell_type": "code",
   "execution_count": 8,
   "id": "c5944610",
   "metadata": {},
   "outputs": [],
   "source": [
    "from keras.utils.np_utils import to_categorical\n",
    "\n",
    "n_classes = 3\n",
    "y_train_cat = to_categorical(y_train, num_classes=n_classes)\n",
    "y_test_cat = to_categorical(y_test, num_classes=n_classes)"
   ]
  },
  {
   "cell_type": "code",
   "execution_count": 9,
   "id": "4ea07bfb",
   "metadata": {},
   "outputs": [],
   "source": [
    "from keras.applications.inception_v3 import InceptionV3\n",
    "from keras.applications.inception_v3 import preprocess_input, decode_predictions\n",
    "from keras.preprocessing import image\n",
    "from keras.layers import Input\n",
    "from keras.preprocessing.image import ImageDataGenerator\n",
    "\n",
    "#import tools.image_gen_extended as T"
   ]
  },
  {
   "cell_type": "code",
   "execution_count": 10,
   "id": "bb770461",
   "metadata": {},
   "outputs": [],
   "source": [
    "#Stratospark code\n",
    "\n",
    "# this is the augmentation configuration we will use for training\n",
    "train_datagen = ImageDataGenerator(\n",
    "    featurewise_center=False,  # set input mean to 0 over the dataset\n",
    "    samplewise_center=False,  # set each sample mean to 0\n",
    "    featurewise_std_normalization=False,  # divide inputs by std of the dataset\n",
    "    samplewise_std_normalization=False,  # divide each input by its std\n",
    "    zca_whitening=False,  # apply ZCA whitening\n",
    "    rotation_range=0,  # randomly rotate images in the range (degrees, 0 to 180)\n",
    "    width_shift_range=0.2,  # randomly shift images horizontally (fraction of total width)\n",
    "    height_shift_range=0.2,  # randomly shift images vertically (fraction of total height)\n",
    "    horizontal_flip=True,  # randomly flip images\n",
    "    vertical_flip=False, # randomly flip images\n",
    "    zoom_range=[.8, 1],\n",
    "    channel_shift_range=30,\n",
    "    fill_mode='reflect')\n",
    "#train_datagen.config['random_crop_size'] = (299, 299)\n",
    "#train_datagen.set_pipeline([T.random_transform, T.random_crop, T.preprocess_input])\n",
    "train_generator = train_datagen.flow(x_train, y_train_cat, batch_size=64, seed=11)"
   ]
  },
  {
   "cell_type": "code",
   "execution_count": 11,
   "id": "6aaffde9",
   "metadata": {},
   "outputs": [],
   "source": [
    "test_datagen = ImageDataGenerator()\n",
    "#test_datagen.config['random_crop_size'] = (299, 299)\n",
    "#test_datagen.set_pipeline([T.random_transform, T.random_crop, T.preprocess_input])\n",
    "test_generator = test_datagen.flow(x_test, y_test_cat, batch_size=64, seed=11)"
   ]
  },
  {
   "cell_type": "code",
   "execution_count": 12,
   "id": "5b5e4f0e",
   "metadata": {},
   "outputs": [],
   "source": [
    "def reverse_preprocess_input(x0):\n",
    "    x = x0 / 2.0\n",
    "    x += 0.5\n",
    "    x *= 255.\n",
    "    return x"
   ]
  },
  {
   "cell_type": "code",
   "execution_count": 13,
   "id": "cb705e3c",
   "metadata": {},
   "outputs": [
    {
     "data": {
      "application/vnd.jupyter.widget-view+json": {
       "model_id": "ce31c35125c2405e92d1e2292fe97325",
       "version_major": 2,
       "version_minor": 0
      },
      "text/plain": [
       "interactive(children=(Checkbox(value=True, description='unprocess'), Output()), _dom_classes=('widget-interact…"
      ]
     },
     "metadata": {},
     "output_type": "display_data"
    },
    {
     "name": "stdout",
     "output_type": "stream",
     "text": [
      "CPU times: user 1.46 s, sys: 151 ms, total: 1.62 s\n",
      "Wall time: 1.22 s\n"
     ]
    }
   ],
   "source": [
    "%%time\n",
    "@interact()\n",
    "def show_images(unprocess=True):\n",
    "    for x in test_generator:\n",
    "        fig, axes = plt.subplots(nrows=8, ncols=4)\n",
    "        fig.set_size_inches(8, 8)\n",
    "        page = 0\n",
    "        page_size = 32\n",
    "        start_i = page * page_size\n",
    "        for i, ax in enumerate(axes.flat):\n",
    "            img = x[0][i+start_i]\n",
    "            if unprocess:\n",
    "                im = ax.imshow( reverse_preprocess_input(img).astype('uint8') )\n",
    "            else:\n",
    "                im = ax.imshow(img)\n",
    "            ax.set_axis_off()\n",
    "            ax.title.set_visible(False)\n",
    "            ax.xaxis.set_ticks([])\n",
    "            ax.yaxis.set_ticks([])\n",
    "            for spine in ax.spines.values():\n",
    "                spine.set_visible(False)\n",
    "\n",
    "        plt.subplots_adjust(left=0, wspace=0, hspace=0)\n",
    "        plt.show()\n",
    "        break"
   ]
  },
  {
   "cell_type": "code",
   "execution_count": 15,
   "id": "7c041897",
   "metadata": {},
   "outputs": [
    {
     "name": "stdout",
     "output_type": "stream",
     "text": [
      "Epoch 1/32\n",
      "WARNING:tensorflow:Your input ran out of data; interrupting training. Make sure that your dataset or generator can generate at least `steps_per_epoch * epochs` batches (in this case, 72000 batches). You may need to use the repeat() function when building your dataset.\n",
      "WARNING:tensorflow:Your input ran out of data; interrupting training. Make sure that your dataset or generator can generate at least `steps_per_epoch * epochs` batches (in this case, 750 batches). You may need to use the repeat() function when building your dataset.\n",
      "\n",
      "Epoch 00001: val_loss improved from inf to 2.28852, saving model to model4.01-2.29.hdf5\n",
      "  36/2250 - 831s - loss: 0.5228 - accuracy: 0.7911 - val_loss: 2.2885 - val_accuracy: 0.3933 - lr: 0.0100\n",
      "CPU times: user 45min 14s, sys: 5min 33s, total: 50min 48s\n",
      "Wall time: 14min 33s\n"
     ]
    },
    {
     "data": {
      "text/plain": [
       "<tensorflow.python.keras.callbacks.History at 0x7fa9d1e4fba8>"
      ]
     },
     "execution_count": 15,
     "metadata": {},
     "output_type": "execute_result"
    }
   ],
   "source": [
    "%%time\n",
    "from keras.models import Sequential, Model\n",
    "from keras.layers import Dense, Dropout, Activation, Flatten\n",
    "from keras.layers import Convolution2D, MaxPooling2D, ZeroPadding2D, GlobalAveragePooling2D, AveragePooling2D\n",
    "from keras.layers.normalization import BatchNormalization\n",
    "from keras.preprocessing.image import ImageDataGenerator\n",
    "from keras.callbacks import ModelCheckpoint, CSVLogger, LearningRateScheduler, ReduceLROnPlateau\n",
    "from keras.optimizers import SGD\n",
    "from keras.regularizers import l2\n",
    "import keras.backend as K\n",
    "import math\n",
    "\n",
    "K.clear_session()\n",
    "\n",
    "base_model = InceptionV3(weights='imagenet', include_top=False, input_tensor=Input(shape=(299, 299, 3)))\n",
    "x = base_model.output\n",
    "x = AveragePooling2D(pool_size=(8, 8))(x)\n",
    "x = Dropout(.4)(x)\n",
    "x = Flatten()(x)\n",
    "predictions = Dense(n_classes, activation='softmax')(x)\n",
    "\n",
    "model = Model(base_model.input, predictions)\n",
    "\n",
    "opt = SGD(lr=.01, momentum=.9)\n",
    "model.compile(optimizer=opt, loss='categorical_crossentropy', metrics=['accuracy'])\n",
    "\n",
    "checkpointer = ModelCheckpoint(filepath='model4.{epoch:02d}-{val_loss:.2f}.hdf5', verbose=1, save_best_only=True)\n",
    "csv_logger = CSVLogger('model4.log')\n",
    "\n",
    "def schedule(epoch):\n",
    "    if epoch < 15:\n",
    "        return .01\n",
    "    elif epoch < 28:\n",
    "        return .002\n",
    "    else:\n",
    "        return .0004\n",
    "lr_scheduler = LearningRateScheduler(schedule)\n",
    "\n",
    "model.fit(train_generator,\n",
    "                    validation_data=test_generator,\n",
    "                    validation_steps=x_test.shape[0],\n",
    "                    steps_per_epoch=x_train.shape[0],\n",
    "                    epochs=32,\n",
    "                    verbose=2,\n",
    "                    callbacks=[lr_scheduler, csv_logger, checkpointer])"
   ]
  },
  {
   "cell_type": "code",
   "execution_count": 16,
   "id": "5e1d76e8",
   "metadata": {},
   "outputs": [
    {
     "name": "stdout",
     "output_type": "stream",
     "text": [
      "WARNING:tensorflow:From /Users/prat/opt/anaconda3/envs/shazamEnv/lib/python3.7/site-packages/tensorflow/python/ops/resource_variable_ops.py:1817: calling BaseResourceVariable.__init__ (from tensorflow.python.ops.resource_variable_ops) with constraint is deprecated and will be removed in a future version.\n",
      "Instructions for updating:\n",
      "If using Keras pass *_constraint arguments to layers.\n",
      "INFO:tensorflow:Assets written to: ./shazamInception/assets\n"
     ]
    }
   ],
   "source": [
    "model.save('./shazamInception/')"
   ]
  },
  {
   "cell_type": "code",
   "execution_count": 18,
   "id": "e17e1ed3",
   "metadata": {},
   "outputs": [],
   "source": [
    "def getFinalPredictions(dataDir):\n",
    "    data = []\n",
    "    img_size=299\n",
    "    img_arr = cv2.imread(dataDir)[...,::-1] #convert BGR to RGB format\n",
    "    resized_arr = cv2.resize(img_arr, (img_size, img_size)) # Reshaping images to preferred size\n",
    "    data.append(resized_arr)\n",
    "    return np.array(data)"
   ]
  },
  {
   "cell_type": "code",
   "execution_count": 33,
   "id": "25520be3",
   "metadata": {},
   "outputs": [],
   "source": [
    "finalImage = getFinalPredictions('./testFolder/116705.jpg')\n",
    "finalImage.reshape(-1, 299, 299, 1)\n",
    "predictionsImage = model.predict(finalImage)"
   ]
  },
  {
   "cell_type": "code",
   "execution_count": 34,
   "id": "6a444322",
   "metadata": {},
   "outputs": [
    {
     "data": {
      "text/plain": [
       "array([[1.1167992e-01, 7.7209220e-04, 8.8754797e-01]], dtype=float32)"
      ]
     },
     "execution_count": 34,
     "metadata": {},
     "output_type": "execute_result"
    }
   ],
   "source": [
    "predictionsImage"
   ]
  },
  {
   "cell_type": "code",
   "execution_count": null,
   "id": "85399aa4",
   "metadata": {},
   "outputs": [],
   "source": []
  }
 ],
 "metadata": {
  "kernelspec": {
   "display_name": "Python 3",
   "language": "python",
   "name": "python3"
  },
  "language_info": {
   "codemirror_mode": {
    "name": "ipython",
    "version": 3
   },
   "file_extension": ".py",
   "mimetype": "text/x-python",
   "name": "python",
   "nbconvert_exporter": "python",
   "pygments_lexer": "ipython3",
   "version": "3.7.0"
  }
 },
 "nbformat": 4,
 "nbformat_minor": 5
}
